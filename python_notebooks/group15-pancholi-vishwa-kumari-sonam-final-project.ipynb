{
 "cells": [
  {
   "cell_type": "markdown",
   "id": "6effc131",
   "metadata": {},
   "source": [
    "# Final Project \n",
    "## Group 15 : Vishwa Pancholi(vhp2) , Sonam Kumari(sonamk2)"
   ]
  },
  {
   "cell_type": "markdown",
   "id": "f49c252f",
   "metadata": {},
   "source": [
    "###### Importing Libraries"
   ]
  },
  {
   "cell_type": "code",
   "execution_count": 36,
   "id": "8b7bfcc0",
   "metadata": {},
   "outputs": [],
   "source": [
    "import numpy as np\n",
    "import pandas as pd"
   ]
  },
  {
   "cell_type": "markdown",
   "id": "f7a19a7a",
   "metadata": {},
   "source": [
    "###### Ingesting and Exploring Data"
   ]
  },
  {
   "cell_type": "code",
   "execution_count": 37,
   "id": "5f0c5462",
   "metadata": {},
   "outputs": [],
   "source": [
    "df=pd.read_csv(\"Food_Inspections_updated.csv\")"
   ]
  },
  {
   "cell_type": "code",
   "execution_count": 38,
   "id": "581d1f08",
   "metadata": {},
   "outputs": [
    {
     "data": {
      "text/html": [
       "<div>\n",
       "<style scoped>\n",
       "    .dataframe tbody tr th:only-of-type {\n",
       "        vertical-align: middle;\n",
       "    }\n",
       "\n",
       "    .dataframe tbody tr th {\n",
       "        vertical-align: top;\n",
       "    }\n",
       "\n",
       "    .dataframe thead th {\n",
       "        text-align: right;\n",
       "    }\n",
       "</style>\n",
       "<table border=\"1\" class=\"dataframe\">\n",
       "  <thead>\n",
       "    <tr style=\"text-align: right;\">\n",
       "      <th></th>\n",
       "      <th>Inspection ID</th>\n",
       "      <th>DBA Name</th>\n",
       "      <th>AKA Name</th>\n",
       "      <th>License #</th>\n",
       "      <th>Facility Type</th>\n",
       "      <th>Risk</th>\n",
       "      <th>Address</th>\n",
       "      <th>City</th>\n",
       "      <th>State</th>\n",
       "      <th>Zip</th>\n",
       "      <th>Inspection Date</th>\n",
       "      <th>Inspection Type</th>\n",
       "      <th>Results</th>\n",
       "      <th>Violations</th>\n",
       "      <th>Latitude</th>\n",
       "      <th>Longitude</th>\n",
       "      <th>Location</th>\n",
       "    </tr>\n",
       "  </thead>\n",
       "  <tbody>\n",
       "    <tr>\n",
       "      <th>0</th>\n",
       "      <td>2561538</td>\n",
       "      <td>PACINO'S RC, LLC</td>\n",
       "      <td>PACINOS</td>\n",
       "      <td>2683667</td>\n",
       "      <td>Restaurant</td>\n",
       "      <td>Risk 1 (High)</td>\n",
       "      <td>1010 S DELANO CT</td>\n",
       "      <td>CHICAGO</td>\n",
       "      <td>IL</td>\n",
       "      <td>60605.0</td>\n",
       "      <td>8/1/2022</td>\n",
       "      <td>Canvass</td>\n",
       "      <td>No Entry</td>\n",
       "      <td>NaN</td>\n",
       "      <td>NaN</td>\n",
       "      <td>NaN</td>\n",
       "      <td>NaN</td>\n",
       "    </tr>\n",
       "    <tr>\n",
       "      <th>1</th>\n",
       "      <td>2556917</td>\n",
       "      <td>BISTRO</td>\n",
       "      <td>BISTRO</td>\n",
       "      <td>2846045</td>\n",
       "      <td>Restaurant</td>\n",
       "      <td>Risk 1 (High)</td>\n",
       "      <td>1400 S JEAN BAPTISTE POINTE DUSABLE LAKESHORE DR</td>\n",
       "      <td>CHICAGO</td>\n",
       "      <td>IL</td>\n",
       "      <td>60605.0</td>\n",
       "      <td>6/7/2022</td>\n",
       "      <td>Canvass</td>\n",
       "      <td>Pass</td>\n",
       "      <td>NaN</td>\n",
       "      <td>NaN</td>\n",
       "      <td>NaN</td>\n",
       "      <td>NaN</td>\n",
       "    </tr>\n",
       "    <tr>\n",
       "      <th>2</th>\n",
       "      <td>2549763</td>\n",
       "      <td>DANIEL WILLIAM HALE</td>\n",
       "      <td>DANIEL WILLIAM HALE</td>\n",
       "      <td>66311</td>\n",
       "      <td>School</td>\n",
       "      <td>Risk 1 (High)</td>\n",
       "      <td>4934 S Wabash (45E) (C/Shabazz)</td>\n",
       "      <td>CHICAGO</td>\n",
       "      <td>IL</td>\n",
       "      <td>60615.0</td>\n",
       "      <td>2/14/2022</td>\n",
       "      <td>Canvass</td>\n",
       "      <td>Pass</td>\n",
       "      <td>51. PLUMBING INSTALLED; PROPER BACKFLOW DEVICE...</td>\n",
       "      <td>NaN</td>\n",
       "      <td>NaN</td>\n",
       "      <td>NaN</td>\n",
       "    </tr>\n",
       "    <tr>\n",
       "      <th>3</th>\n",
       "      <td>2492473</td>\n",
       "      <td>DANIEL WILLIAM HALE</td>\n",
       "      <td>DANIEL WILLIAM HALE</td>\n",
       "      <td>66311</td>\n",
       "      <td>School</td>\n",
       "      <td>Risk 1 (High)</td>\n",
       "      <td>4934 S Wabash (45E) (C/Shabazz)</td>\n",
       "      <td>CHICAGO</td>\n",
       "      <td>IL</td>\n",
       "      <td>60615.0</td>\n",
       "      <td>3/5/2021</td>\n",
       "      <td>Canvass</td>\n",
       "      <td>Pass</td>\n",
       "      <td>NaN</td>\n",
       "      <td>NaN</td>\n",
       "      <td>NaN</td>\n",
       "      <td>NaN</td>\n",
       "    </tr>\n",
       "    <tr>\n",
       "      <th>4</th>\n",
       "      <td>2557151</td>\n",
       "      <td>DUNKIN DONUTS</td>\n",
       "      <td>DUNKIN DONUTS</td>\n",
       "      <td>1903388</td>\n",
       "      <td>Restaurant</td>\n",
       "      <td>Risk 2 (Medium)</td>\n",
       "      <td>6237 S HALSTED PKWY</td>\n",
       "      <td>CHICAGO</td>\n",
       "      <td>IL</td>\n",
       "      <td>60621.0</td>\n",
       "      <td>6/10/2022</td>\n",
       "      <td>Complaint Re-Inspection</td>\n",
       "      <td>Pass</td>\n",
       "      <td>NaN</td>\n",
       "      <td>NaN</td>\n",
       "      <td>NaN</td>\n",
       "      <td>NaN</td>\n",
       "    </tr>\n",
       "  </tbody>\n",
       "</table>\n",
       "</div>"
      ],
      "text/plain": [
       "   Inspection ID             DBA Name             AKA Name  License #  \\\n",
       "0        2561538     PACINO'S RC, LLC              PACINOS    2683667   \n",
       "1        2556917               BISTRO               BISTRO    2846045   \n",
       "2        2549763  DANIEL WILLIAM HALE  DANIEL WILLIAM HALE      66311   \n",
       "3        2492473  DANIEL WILLIAM HALE  DANIEL WILLIAM HALE      66311   \n",
       "4        2557151        DUNKIN DONUTS        DUNKIN DONUTS    1903388   \n",
       "\n",
       "  Facility Type             Risk  \\\n",
       "0    Restaurant    Risk 1 (High)   \n",
       "1    Restaurant    Risk 1 (High)   \n",
       "2        School    Risk 1 (High)   \n",
       "3        School    Risk 1 (High)   \n",
       "4    Restaurant  Risk 2 (Medium)   \n",
       "\n",
       "                                             Address     City State      Zip  \\\n",
       "0                                  1010 S DELANO CT   CHICAGO    IL  60605.0   \n",
       "1  1400 S JEAN BAPTISTE POINTE DUSABLE LAKESHORE DR   CHICAGO    IL  60605.0   \n",
       "2                   4934 S Wabash (45E) (C/Shabazz)   CHICAGO    IL  60615.0   \n",
       "3                   4934 S Wabash (45E) (C/Shabazz)   CHICAGO    IL  60615.0   \n",
       "4                               6237 S HALSTED PKWY   CHICAGO    IL  60621.0   \n",
       "\n",
       "  Inspection Date          Inspection Type   Results  \\\n",
       "0        8/1/2022                  Canvass  No Entry   \n",
       "1        6/7/2022                  Canvass      Pass   \n",
       "2       2/14/2022                  Canvass      Pass   \n",
       "3        3/5/2021                  Canvass      Pass   \n",
       "4       6/10/2022  Complaint Re-Inspection      Pass   \n",
       "\n",
       "                                          Violations  Latitude  Longitude  \\\n",
       "0                                                NaN       NaN        NaN   \n",
       "1                                                NaN       NaN        NaN   \n",
       "2  51. PLUMBING INSTALLED; PROPER BACKFLOW DEVICE...       NaN        NaN   \n",
       "3                                                NaN       NaN        NaN   \n",
       "4                                                NaN       NaN        NaN   \n",
       "\n",
       "  Location  \n",
       "0      NaN  \n",
       "1      NaN  \n",
       "2      NaN  \n",
       "3      NaN  \n",
       "4      NaN  "
      ]
     },
     "execution_count": 38,
     "metadata": {},
     "output_type": "execute_result"
    }
   ],
   "source": [
    "df.head()"
   ]
  },
  {
   "cell_type": "code",
   "execution_count": 39,
   "id": "6c07e579",
   "metadata": {},
   "outputs": [
    {
     "data": {
      "text/plain": [
       "array(['CHICAGO', 'OAK PARK', 'LAKE ZURICH', 'GLEN ELLYN', 'SUMMIT',\n",
       "       'chicago', 'CALUMET CITY', 'BURNHAM', 'BERWYN', 'EVANSTON',\n",
       "       'EVERGREEN PARK', 'MORTON GROVE', 'OAK LAWN', 'PLAINFIELD', nan,\n",
       "       'CCHICAGO', 'Chicago', 'CHICAGOC', 'CHicago', 'CHICAGOO',\n",
       "       'CHICAGOCHICAGO', 'CHICAGO.'], dtype=object)"
      ]
     },
     "execution_count": 39,
     "metadata": {},
     "output_type": "execute_result"
    }
   ],
   "source": [
    "df['City'].unique()"
   ]
  },
  {
   "cell_type": "code",
   "execution_count": 40,
   "id": "999b978d",
   "metadata": {},
   "outputs": [
    {
     "data": {
      "text/plain": [
       "array(['IL'], dtype=object)"
      ]
     },
     "execution_count": 40,
     "metadata": {},
     "output_type": "execute_result"
    }
   ],
   "source": [
    "df['State'].unique()"
   ]
  },
  {
   "cell_type": "code",
   "execution_count": 41,
   "id": "4e01b5f5",
   "metadata": {},
   "outputs": [
    {
     "data": {
      "text/plain": [
       "(29922, 17)"
      ]
     },
     "execution_count": 41,
     "metadata": {},
     "output_type": "execute_result"
    }
   ],
   "source": [
    "df.shape"
   ]
  },
  {
   "cell_type": "markdown",
   "id": "e8bd67cb",
   "metadata": {},
   "source": [
    "###### Data Cleaning : dropping non useful columns and checking for null values"
   ]
  },
  {
   "cell_type": "code",
   "execution_count": 42,
   "id": "17c9fd37",
   "metadata": {},
   "outputs": [],
   "source": [
    "df=df.drop('Violations',axis =1)"
   ]
  },
  {
   "cell_type": "code",
   "execution_count": 43,
   "id": "98c4781b",
   "metadata": {},
   "outputs": [],
   "source": [
    "df=df.drop('City',axis=1)"
   ]
  },
  {
   "cell_type": "code",
   "execution_count": 44,
   "id": "a8906657",
   "metadata": {},
   "outputs": [],
   "source": [
    "df=df.drop('State',axis=1)"
   ]
  },
  {
   "cell_type": "code",
   "execution_count": 45,
   "id": "d1b03a4b",
   "metadata": {},
   "outputs": [
    {
     "data": {
      "text/plain": [
       "(29922, 14)"
      ]
     },
     "execution_count": 45,
     "metadata": {},
     "output_type": "execute_result"
    }
   ],
   "source": [
    "df.shape"
   ]
  },
  {
   "cell_type": "code",
   "execution_count": 46,
   "id": "2c233221",
   "metadata": {},
   "outputs": [
    {
     "data": {
      "text/plain": [
       "Index(['AKA Name', 'Facility Type', 'Risk', 'Zip', 'Latitude', 'Longitude',\n",
       "       'Location'],\n",
       "      dtype='object')"
      ]
     },
     "execution_count": 46,
     "metadata": {},
     "output_type": "execute_result"
    }
   ],
   "source": [
    "df.columns[df.isna().any()]"
   ]
  },
  {
   "cell_type": "code",
   "execution_count": 47,
   "id": "366a57fe",
   "metadata": {},
   "outputs": [],
   "source": [
    "df =df.dropna()"
   ]
  },
  {
   "cell_type": "code",
   "execution_count": 48,
   "id": "2378d63b",
   "metadata": {},
   "outputs": [
    {
     "data": {
      "text/plain": [
       "Index([], dtype='object')"
      ]
     },
     "execution_count": 48,
     "metadata": {},
     "output_type": "execute_result"
    }
   ],
   "source": [
    "df.columns[df.isna().any()]"
   ]
  },
  {
   "cell_type": "code",
   "execution_count": 49,
   "id": "7d14d413",
   "metadata": {},
   "outputs": [],
   "source": [
    "df['Inspection Date'] = pd.to_datetime(df['Inspection Date'],errors='coerce',format='%m/%d/%Y')"
   ]
  },
  {
   "cell_type": "code",
   "execution_count": 50,
   "id": "7f22488b",
   "metadata": {},
   "outputs": [],
   "source": [
    "df['Inspection Year'] = df['Inspection Date'].dt.year"
   ]
  },
  {
   "cell_type": "code",
   "execution_count": 51,
   "id": "008601e0",
   "metadata": {},
   "outputs": [],
   "source": [
    "df['Inspection Month'] = df['Inspection Date'].dt.month"
   ]
  },
  {
   "cell_type": "code",
   "execution_count": 52,
   "id": "0837223c",
   "metadata": {},
   "outputs": [
    {
     "data": {
      "text/plain": [
       "10668"
      ]
     },
     "execution_count": 52,
     "metadata": {},
     "output_type": "execute_result"
    }
   ],
   "source": [
    "df['AKA Name'].nunique()"
   ]
  },
  {
   "cell_type": "code",
   "execution_count": 53,
   "id": "78d0d3da",
   "metadata": {},
   "outputs": [
    {
     "data": {
      "text/plain": [
       "array(['Grocery Store', 'Restaurant', 'COMMISSARY', 'Bakery',\n",
       "       'Daycare (2 - 6 Years)', \"Children's Services Facility\",\n",
       "       'Daycare Above and Under 2 Years', 'Liquor', 'School',\n",
       "       'DELI/GROCERY STORE', 'Hospital', 'Long Term Care', 'TAVERN',\n",
       "       'BANQUET HALL', 'Special Event', 'Daycare (Under 2 Years)',\n",
       "       'GAS STATION', 'Shared Kitchen', 'POULTRY SLAUGHTER',\n",
       "       'OUTREACH CULINARY KITCHEN', 'BANQUET', 'PUBLIC SHCOOL',\n",
       "       'ROOF TOP', 'CHARTER SCHOOL', 'Daycare Combo 1586',\n",
       "       'RESTAURANT/GROCERY STORE', 'Catering',\n",
       "       'CHILDRENS SERVICES FACILITY', 'Wholesale', 'COOKING SCHOOL',\n",
       "       'Mobile Food Dispenser', 'Mobile Food Preparer',\n",
       "       'Pop-Up Establishment Host-Tier II', 'Shelter', 'Banquet Hall',\n",
       "       'GROCERY/BAKERY', 'Shared Kitchen User (Long Term)',\n",
       "       'Golden Diner', 'GAS STATION/FOOD', 'GROCERY/RESTAURANT',\n",
       "       'GROCERY STORE/GAS STATION', 'STADIUM', 'tavern',\n",
       "       'SUPPORTIVE LIVING', 'GROCERY STORE/COOKING SCHOOL',\n",
       "       'Pop-Up Food Establishment User-Tier I', 'GAS STATION/GROCERY',\n",
       "       'ICE CREAM SHOP', 'NURSING HOME', 'TEST KITCHEN/ STORAGE',\n",
       "       'LIVE POULTRY', 'private school', 'PALETERIA', 'CULINARY SCHOOL',\n",
       "       'HOTEL', 'CUSTOM POULTRY SLAUGHTER', 'PRIVATE SCHOOL',\n",
       "       'cooking school', 'Pop-Up Food Establishment User-Tier II',\n",
       "       'Live Poultry', 'BUTCHER SHOP', 'PASTRY SCHOOL', 'DAYCARE',\n",
       "       'butcher shop', 'GAS STATION/RESTAURANT',\n",
       "       'Mobile Frozen Desserts Vendor', 'GROCERY/DELI', 'CAFETERIA',\n",
       "       'hair salon', 'DELI/BAKERY', \"1023 CHILDERN'S SERVICES FACILITY\",\n",
       "       'ROOF TOPS', 'banquets', 'Assisted Living Senior Care',\n",
       "       'Mobile Prepared Food Vendor', 'MOVIE THEATER', 'DAY CARE 2-14',\n",
       "       \"1023 CHILDERN'S SERVICE FACILITY\", 'ASSISTED LIVING', 'STORE',\n",
       "       'CHURCH KITCHEN', 'CHARTER', 'SPA', 'ROOFTOPS', 'RESTAURANT/BAR',\n",
       "       'ROOFTOP', 'RIVERWALK', 'GROCERY/TAQUERIA', 'Coffee shop',\n",
       "       'SCHOOL', 'SENIOR DAY CARE', 'HOT DOG STATION', 'WRIGLEY ROOFTOP',\n",
       "       'Hair Salon', 'BANQUET HALL/CATERING',\n",
       "       \"1023-CHILDREN'S SERVICES FACILITY\", 'MOBILE FOOD',\n",
       "       'GROCERY & LIQUOR STORE', 'Daycare Night', 'HERBAL MEDICINE',\n",
       "       'JUICE AND SALAD BAR', 'LOUNGE/BANQUET HALL', 'NUTRITION SHAKES',\n",
       "       'SUPPORTIVE LIVING FACILITY', 'LIQUOR/COFFEE KIOSK', 'ICE CREAM',\n",
       "       'GROCERY/GAS STATION', 'REGULATED BUSINESS', 'Private School',\n",
       "       'MOBIL FOOD PREPARED', 'ARCHDIOCESE', 'TRUCK', 'COFFEE KIOSK',\n",
       "       'Banquet', 'Day Care Facility', 'CONVENIENT STORE',\n",
       "       'HERBAL LIFE SHOP', 'FITNESS CENTER', 'ADULT DAYCARE',\n",
       "       'youth housing', 'gas station', 'DISTILLERY WITH TASTING ROOM',\n",
       "       'FLEA MARKET', 'KIOSK', \"1023 CHILDREN'S SERVICES FACILITY\",\n",
       "       \"CHILDERN'S SERVICE FACILITY\",\n",
       "       'Pop-Up Establishment Host-Tier III', 'FOOD BOOTH', 'EVENT SPACE',\n",
       "       'school cafeteria', 'AFTER SCHOOL PROGRAM', 'CAFE/STORE',\n",
       "       'CATERING/BANQUET', 'Grocery & Restaurant', 'bar', 'DINING HALL',\n",
       "       'NIGHT CLUB', 'CHARTER SCHOOL CAFETERIA',\n",
       "       'LIVE POULTRY SLAUGHTER FACILITY', 'DAYCARE 2 YRS TO 12 YRS',\n",
       "       'coffee shop', 'Grocery(Sushi prep)', 'MOBILE PUSH CART',\n",
       "       'CATERING/CAFE', 'BREWPUB', 'RETAIL STORE OFFERS COOKING CLASSES',\n",
       "       'Other', 'COLD STORAGE FACILITY', 'CHURCH/SPECIAL EVENTS', 'BAR',\n",
       "       'COMMISARY', 'UNIVERSITY CAFETERIA', 'CHURCH',\n",
       "       'GAS STATION/MINI MART', 'Shared Kitchen User (Short Term)',\n",
       "       'REHAB CENTER', 'CONVENIENCE STORE', 'COOKING CLASS',\n",
       "       'BANQUET ROOM', 'MOVIE THEATRE', 'LIQUOR STORE', 'EVENT CENTER',\n",
       "       'CANDY/GELATO', 'SUSHI COUNTER', 'theater', 'donut shop',\n",
       "       'Navy Pier Kiosk', 'FOOD PANTRY'], dtype=object)"
      ]
     },
     "execution_count": 53,
     "metadata": {},
     "output_type": "execute_result"
    }
   ],
   "source": [
    "df['Facility Type'].unique()"
   ]
  },
  {
   "cell_type": "markdown",
   "id": "4f110df2",
   "metadata": {},
   "source": [
    "Facility type needs aliasing as there are duplication and spelling mistakes , thus we added a column which will categorize each facility type."
   ]
  },
  {
   "cell_type": "code",
   "execution_count": 54,
   "id": "ae3b200c",
   "metadata": {},
   "outputs": [],
   "source": [
    "df['Facility Category'] = df['Facility Type'].replace(['Grocery & Restaurant', 'DELI/GROCERY STORE','Grocery Store', 'RESTAURANT/GROCERY STORE','GROCERY STORE/GAS STATION','STORE','GAS STATION/GROCERY','GROCERY & LIQUOR STORE','GROCERY/TAQUERIA','GROCERY/DELI','Grocery(Sushi prep)','GROCERY/BAKERY','CONVENIENCE STORE','CONVENIENT STORE'], 'Grocery Store')\n",
    "df['Facility Category']=df['Facility Category'].replace(['Restaurant','Golden Diner','RESTAURANT/BAR','RESTAURANT/GROCERY STORE','Restaurant/Diner','GROCERY/RESTAURANT'],'Restaurant/Diner')\n",
    "df['Facility Category']=df['Facility Category'].replace(['ROOFTOPS','GROOFTOP','TAVERN','tavern','ROOF TOPS','ROOFTOP','OUTREACH CULINARY KITCHEN','ROOF TOP','RIVERWALK','BREWPUB','WRIGLEY ROOFTOP','bar','BAR','NIGHT CLUB'],'Fine Dining/Bar')\n",
    "df['Facility Category']=df['Facility Category'].replace([\"Children's Services Facility\",'DAY CARE 2-14','DAYCARE','Day Care Facility','Long Term Care',\"1023 CHILDERN'S SERVICE FACILITY\",'DAYCARE 2 YRS TO 12 YRS',\"1023 CHILDREN'S SERVICES FACILITY\",'Daycare (2 - 6 Years)','Daycare Above and Under 2 Years','CHILDRENS SERVICES FACILITY','Daycare Combo 1586','Daycare Night',\"1023 CHILDERN'S SERVICES FACILITY\",\"CHILDERN'S SERVICE FACILITY\",'Daycare (Under 2 Years)',\"1023-CHILDREN'S SERVICES FACILITY\"],'Child Care')\n",
    "df['Facility Category']=df['Facility Category'].replace(['coffee shop','LIQUOR/COFFEE KIOSK','CAFE/STORE','CATERING/CAFE','CAFETERIA','Coffee shop'],'Café')\n",
    "df['Facility Category']=df['Facility Category'].replace(['COOKING CLASS','PASTRY SCHOOL','COOKING SCHOOL','GROCERY STORE/COOKING SCHOOL','CULINARY SCHOOL','RETAIL STORE OFFERS COOKING CLASSES','cooking school'],'Cooking School')\n",
    "df['Facility Category']=df['Facility Category'].replace(['BUTCHER SHOP','LIVE POULTRY','POULTRY SLAUGHTER','CUSTOM POULTRY SLAUGHTER','Live Poultry','LIVE POULTRY SLAUGHTER FACILITY','butcher shop'],'Butcher/Poultry')\n",
    "df['Facility Category']=df['Facility Category'].replace(['private school','AFTER SCHOOL PROGRAM','UNIVERSITY CAFETERIA','CHARTER SCHOOL CAFETERIA','School','school cafeteria','DINING HALL','PUBLIC SHCOOL','Private School','SCHOOL','PRIVATE SCHOOL','CHARTER SCHOOL','CHARTER'],'School')\n",
    "df['Facility Category']=df['Facility Category'].replace(['MOBIL FOOD PREPARED','Mobile Food Preparer','Pop-Up Food Establishment User-Tier II','HOT DOG STATION','FOOD BOOTH','TRUCK','FOOD PANTRY','Mobile Food Dispenser','Mobile Prepared Food Vendor','Pop-Up Food Establishment User-Tier I','Pop-Up Establishment Host-Tier III','Pop-Up Establishment Host-Tier II','MOBILE PUSH CART','MOBILE FOOD','Mobile Frozen Desserts Vendor'],'Mobile Food')\n",
    "df['Facility Category']=df['Facility Category'].replace(['banquets','Banquet Events','Special Event','BANQUET HALL','BANQUET','EVENT CENTER','EVENT SPACE','CATERING/BANQUET','LOUNGE/BANQUET HALL','BANQUET HALL/CATERING','BANQUET ROOM','Banquet','CHURCH/SPECIAL EVENTS'],'Banquet Events')\n",
    "df['Facility Category']=df['Facility Category'].replace(['SUPPORTIVE LIVING FACILITY','REHAB CENTER','ASSISTED LIVING','SUPPORTIVE LIVING','Assisted Living Senior Care','SENIOR DAY CARE','NURSING HOME','ADULT DAYCARE'],'Supportive/Assisted Living')\n",
    "df['Facility Category']=df['Facility Category'].replace(['Shelter','Shared Kitchen User (Long Term)','Shared Kitchen','Shared Kitchen User (Short Term)','youth housing'],'Shelter/Shared Kitchen')\n",
    "df['Facility Category']=df['Facility Category'].replace(['Navy Pier Kiosk','KIOSK','gas station','GAS STATION/FOOD','GROCERY/GAS STATION','COFFEE KIOSK','GAS STATION/MINI MART','GAS STATION','GAS STATION/RESTAURANT'],'Gas Station/Kiosk')\n",
    "df['Facility Category']=df['Facility Category'].replace(['Hospital','HERBAL MEDICINE','HERBAL LIFE SHOP'],'Hospital/Medicine')\n",
    "df['Facility Category']=df['Facility Category'].replace(['Hotel','HOTEL'],'Hotel')\n",
    "df['Facility Category']=df['Facility Category'].replace(['DISTILLERY WITH TASTING ROOM','Liquor','LIQUOR STORE'],'Liquor')\n",
    "df['Facility Category']=df['Facility Category'].replace(['DELI/BAKERY','Bakery'],'Bakery')\n",
    "df['Facility Category']=df['Facility Category'].replace(['ICE CREAM SHOP','CANDY/GELATO','JUICE AND SALAD BAR', 'NUTRITION SHAKES', 'ICE CREAM','PALETERIA'],'Ice-cream/Shakes')\n",
    "df['Facility Category']=df['Facility Category'].replace(['COMMISSARY','REGULATED BUSINESS','COMMISARY','SUSHI COUNTER','TEST KITCHEN/ STORAGE','COLD STORAGE FACILITY','donut shop','FLEA MARKET','ARCHDIOCESE','CHURCH','CHURCH KITCHEN'],'Other')\n",
    "df['Facility Category']=df['Facility Category'].replace(['hair salon','Hair Salon','SPA','FITNESS CENTER'],'Salon/Fitness Center')\n",
    "df['Facility Category']=df['Facility Category'].replace(['MOVIE THEATER','MOVIE THEATRE','STADIUM','theater'],'Theater/Stadium')"
   ]
  },
  {
   "cell_type": "code",
   "execution_count": 55,
   "id": "0d1f8bb5",
   "metadata": {},
   "outputs": [
    {
     "data": {
      "text/html": [
       "<div>\n",
       "<style scoped>\n",
       "    .dataframe tbody tr th:only-of-type {\n",
       "        vertical-align: middle;\n",
       "    }\n",
       "\n",
       "    .dataframe tbody tr th {\n",
       "        vertical-align: top;\n",
       "    }\n",
       "\n",
       "    .dataframe thead th {\n",
       "        text-align: right;\n",
       "    }\n",
       "</style>\n",
       "<table border=\"1\" class=\"dataframe\">\n",
       "  <thead>\n",
       "    <tr style=\"text-align: right;\">\n",
       "      <th></th>\n",
       "      <th>Inspection ID</th>\n",
       "      <th>DBA Name</th>\n",
       "      <th>AKA Name</th>\n",
       "      <th>License #</th>\n",
       "      <th>Facility Type</th>\n",
       "      <th>Risk</th>\n",
       "      <th>Address</th>\n",
       "      <th>Zip</th>\n",
       "      <th>Inspection Date</th>\n",
       "      <th>Inspection Type</th>\n",
       "      <th>Results</th>\n",
       "      <th>Latitude</th>\n",
       "      <th>Longitude</th>\n",
       "      <th>Location</th>\n",
       "      <th>Inspection Year</th>\n",
       "      <th>Inspection Month</th>\n",
       "      <th>Facility Category</th>\n",
       "    </tr>\n",
       "  </thead>\n",
       "  <tbody>\n",
       "    <tr>\n",
       "      <th>78</th>\n",
       "      <td>2472294</td>\n",
       "      <td>THE GODDESS RIVER NORTH</td>\n",
       "      <td>THE GODDESS AND GROCER</td>\n",
       "      <td>2196732</td>\n",
       "      <td>Grocery Store</td>\n",
       "      <td>Risk 1 (High)</td>\n",
       "      <td>901 N LARRABEE ST</td>\n",
       "      <td>60610.0</td>\n",
       "      <td>2021-01-05</td>\n",
       "      <td>Canvass</td>\n",
       "      <td>Pass</td>\n",
       "      <td>41.898757</td>\n",
       "      <td>-87.642879</td>\n",
       "      <td>(41.89875668638562, -87.64287886755926)</td>\n",
       "      <td>2021</td>\n",
       "      <td>1</td>\n",
       "      <td>Grocery Store</td>\n",
       "    </tr>\n",
       "    <tr>\n",
       "      <th>79</th>\n",
       "      <td>2472243</td>\n",
       "      <td>L &amp; P LIQUORS INC</td>\n",
       "      <td>L &amp; P LIQUORS</td>\n",
       "      <td>2757264</td>\n",
       "      <td>Restaurant</td>\n",
       "      <td>Risk 2 (Medium)</td>\n",
       "      <td>4001 W LAWRENCE AVE</td>\n",
       "      <td>60630.0</td>\n",
       "      <td>2021-01-04</td>\n",
       "      <td>License</td>\n",
       "      <td>Fail</td>\n",
       "      <td>41.968132</td>\n",
       "      <td>-87.728087</td>\n",
       "      <td>(41.96813178484842, -87.72808675595967)</td>\n",
       "      <td>2021</td>\n",
       "      <td>1</td>\n",
       "      <td>Restaurant/Diner</td>\n",
       "    </tr>\n",
       "    <tr>\n",
       "      <th>80</th>\n",
       "      <td>2472239</td>\n",
       "      <td>SU NUEVA CASA DEL GALLO BRAVO, INC.</td>\n",
       "      <td>SU NUEVA CASA DEL GALLO BRAVO, INC.</td>\n",
       "      <td>2308713</td>\n",
       "      <td>Restaurant</td>\n",
       "      <td>Risk 1 (High)</td>\n",
       "      <td>3714 W LAWRENCE AVE</td>\n",
       "      <td>60625.0</td>\n",
       "      <td>2021-01-04</td>\n",
       "      <td>Canvass</td>\n",
       "      <td>Fail</td>\n",
       "      <td>41.968424</td>\n",
       "      <td>-87.721352</td>\n",
       "      <td>(41.968423847600164, -87.72135178109974)</td>\n",
       "      <td>2021</td>\n",
       "      <td>1</td>\n",
       "      <td>Restaurant/Diner</td>\n",
       "    </tr>\n",
       "    <tr>\n",
       "      <th>81</th>\n",
       "      <td>2472323</td>\n",
       "      <td>ELSTON AVENUE FOOD COMPANY</td>\n",
       "      <td>GODESS AND GROCER</td>\n",
       "      <td>2379666</td>\n",
       "      <td>COMMISSARY</td>\n",
       "      <td>Risk 1 (High)</td>\n",
       "      <td>1036 N KILBOURN AVE</td>\n",
       "      <td>60651.0</td>\n",
       "      <td>2021-01-06</td>\n",
       "      <td>Canvass</td>\n",
       "      <td>Fail</td>\n",
       "      <td>41.899924</td>\n",
       "      <td>-87.738683</td>\n",
       "      <td>(41.89992381117936, -87.73868335454733)</td>\n",
       "      <td>2021</td>\n",
       "      <td>1</td>\n",
       "      <td>Other</td>\n",
       "    </tr>\n",
       "    <tr>\n",
       "      <th>82</th>\n",
       "      <td>2472417</td>\n",
       "      <td>WAFFLE PANCAKE HOUSE INC</td>\n",
       "      <td>WAFFLE PANCAKE HOUSE</td>\n",
       "      <td>2766627</td>\n",
       "      <td>Restaurant</td>\n",
       "      <td>Risk 1 (High)</td>\n",
       "      <td>3458 W 111TH ST</td>\n",
       "      <td>60655.0</td>\n",
       "      <td>2021-01-07</td>\n",
       "      <td>License</td>\n",
       "      <td>Pass w/ Conditions</td>\n",
       "      <td>41.691555</td>\n",
       "      <td>-87.708101</td>\n",
       "      <td>(41.691554773175255, -87.70810064840053)</td>\n",
       "      <td>2021</td>\n",
       "      <td>1</td>\n",
       "      <td>Restaurant/Diner</td>\n",
       "    </tr>\n",
       "  </tbody>\n",
       "</table>\n",
       "</div>"
      ],
      "text/plain": [
       "    Inspection ID                             DBA Name  \\\n",
       "78        2472294              THE GODDESS RIVER NORTH   \n",
       "79        2472243                    L & P LIQUORS INC   \n",
       "80        2472239  SU NUEVA CASA DEL GALLO BRAVO, INC.   \n",
       "81        2472323           ELSTON AVENUE FOOD COMPANY   \n",
       "82        2472417             WAFFLE PANCAKE HOUSE INC   \n",
       "\n",
       "                               AKA Name  License #  Facility Type  \\\n",
       "78               THE GODDESS AND GROCER    2196732  Grocery Store   \n",
       "79                        L & P LIQUORS    2757264     Restaurant   \n",
       "80  SU NUEVA CASA DEL GALLO BRAVO, INC.    2308713     Restaurant   \n",
       "81                    GODESS AND GROCER    2379666     COMMISSARY   \n",
       "82                 WAFFLE PANCAKE HOUSE    2766627     Restaurant   \n",
       "\n",
       "               Risk              Address      Zip Inspection Date  \\\n",
       "78    Risk 1 (High)    901 N LARRABEE ST  60610.0      2021-01-05   \n",
       "79  Risk 2 (Medium)  4001 W LAWRENCE AVE  60630.0      2021-01-04   \n",
       "80    Risk 1 (High)  3714 W LAWRENCE AVE  60625.0      2021-01-04   \n",
       "81    Risk 1 (High)  1036 N KILBOURN AVE  60651.0      2021-01-06   \n",
       "82    Risk 1 (High)      3458 W 111TH ST  60655.0      2021-01-07   \n",
       "\n",
       "   Inspection Type             Results   Latitude  Longitude  \\\n",
       "78         Canvass                Pass  41.898757 -87.642879   \n",
       "79         License                Fail  41.968132 -87.728087   \n",
       "80         Canvass                Fail  41.968424 -87.721352   \n",
       "81         Canvass                Fail  41.899924 -87.738683   \n",
       "82         License  Pass w/ Conditions  41.691555 -87.708101   \n",
       "\n",
       "                                    Location  Inspection Year  \\\n",
       "78   (41.89875668638562, -87.64287886755926)             2021   \n",
       "79   (41.96813178484842, -87.72808675595967)             2021   \n",
       "80  (41.968423847600164, -87.72135178109974)             2021   \n",
       "81   (41.89992381117936, -87.73868335454733)             2021   \n",
       "82  (41.691554773175255, -87.70810064840053)             2021   \n",
       "\n",
       "    Inspection Month Facility Category  \n",
       "78                 1     Grocery Store  \n",
       "79                 1  Restaurant/Diner  \n",
       "80                 1  Restaurant/Diner  \n",
       "81                 1             Other  \n",
       "82                 1  Restaurant/Diner  "
      ]
     },
     "execution_count": 55,
     "metadata": {},
     "output_type": "execute_result"
    }
   ],
   "source": [
    "df.head()"
   ]
  },
  {
   "cell_type": "code",
   "execution_count": 56,
   "id": "7b0838dc",
   "metadata": {},
   "outputs": [
    {
     "data": {
      "text/plain": [
       "array(['Grocery Store', 'Restaurant/Diner', 'Other', 'Bakery',\n",
       "       'Child Care', 'Liquor', 'School', 'Hospital/Medicine',\n",
       "       'Fine Dining/Bar', 'Banquet Events', 'Gas Station/Kiosk',\n",
       "       'Shelter/Shared Kitchen', 'Butcher/Poultry', 'Catering',\n",
       "       'Wholesale', 'Cooking School', 'Mobile Food', 'Banquet Hall',\n",
       "       'Theater/Stadium', 'Supportive/Assisted Living',\n",
       "       'Ice-cream/Shakes', 'Hotel', 'Café', 'Salon/Fitness Center'],\n",
       "      dtype=object)"
      ]
     },
     "execution_count": 56,
     "metadata": {},
     "output_type": "execute_result"
    }
   ],
   "source": [
    "df['Facility Category'].unique()"
   ]
  },
  {
   "cell_type": "markdown",
   "id": "22c39fe4",
   "metadata": {},
   "source": [
    "The above cleaned data is exported to csv and uploaded on github to fetch data using URL , this was performed to prevent 5000 max row error while using Altair for plotting various graphs. The size of the data is around 6MB which is below GitHub uploading limit."
   ]
  },
  {
   "cell_type": "code",
   "execution_count": 3,
   "id": "08ae2434",
   "metadata": {},
   "outputs": [],
   "source": [
    "#df.reset_index().to_csv(\"clean_food_inspection.csv\") \n",
    "import altair as alt"
   ]
  },
  {
   "cell_type": "code",
   "execution_count": 4,
   "id": "ebe1c2a4",
   "metadata": {},
   "outputs": [],
   "source": [
    "source= 'https://raw.githubusercontent.com/Vishwa79/vishwa79.github.io/main/python_notebooks/clean_food_inspection.csv'\n"
   ]
  },
  {
   "cell_type": "code",
   "execution_count": 54,
   "id": "5287035e",
   "metadata": {
    "scrolled": true
   },
   "outputs": [
    {
     "data": {
      "text/html": [
       "\n",
       "<div id=\"altair-viz-30198947fd8b436cbb245117b490b8d3\"></div>\n",
       "<script type=\"text/javascript\">\n",
       "  var VEGA_DEBUG = (typeof VEGA_DEBUG == \"undefined\") ? {} : VEGA_DEBUG;\n",
       "  (function(spec, embedOpt){\n",
       "    let outputDiv = document.currentScript.previousElementSibling;\n",
       "    if (outputDiv.id !== \"altair-viz-30198947fd8b436cbb245117b490b8d3\") {\n",
       "      outputDiv = document.getElementById(\"altair-viz-30198947fd8b436cbb245117b490b8d3\");\n",
       "    }\n",
       "    const paths = {\n",
       "      \"vega\": \"https://cdn.jsdelivr.net/npm//vega@5?noext\",\n",
       "      \"vega-lib\": \"https://cdn.jsdelivr.net/npm//vega-lib?noext\",\n",
       "      \"vega-lite\": \"https://cdn.jsdelivr.net/npm//vega-lite@4.17.0?noext\",\n",
       "      \"vega-embed\": \"https://cdn.jsdelivr.net/npm//vega-embed@6?noext\",\n",
       "    };\n",
       "\n",
       "    function maybeLoadScript(lib, version) {\n",
       "      var key = `${lib.replace(\"-\", \"\")}_version`;\n",
       "      return (VEGA_DEBUG[key] == version) ?\n",
       "        Promise.resolve(paths[lib]) :\n",
       "        new Promise(function(resolve, reject) {\n",
       "          var s = document.createElement('script');\n",
       "          document.getElementsByTagName(\"head\")[0].appendChild(s);\n",
       "          s.async = true;\n",
       "          s.onload = () => {\n",
       "            VEGA_DEBUG[key] = version;\n",
       "            return resolve(paths[lib]);\n",
       "          };\n",
       "          s.onerror = () => reject(`Error loading script: ${paths[lib]}`);\n",
       "          s.src = paths[lib];\n",
       "        });\n",
       "    }\n",
       "\n",
       "    function showError(err) {\n",
       "      outputDiv.innerHTML = `<div class=\"error\" style=\"color:red;\">${err}</div>`;\n",
       "      throw err;\n",
       "    }\n",
       "\n",
       "    function displayChart(vegaEmbed) {\n",
       "      vegaEmbed(outputDiv, spec, embedOpt)\n",
       "        .catch(err => showError(`Javascript Error: ${err.message}<br>This usually means there's a typo in your chart specification. See the javascript console for the full traceback.`));\n",
       "    }\n",
       "\n",
       "    if(typeof define === \"function\" && define.amd) {\n",
       "      requirejs.config({paths});\n",
       "      require([\"vega-embed\"], displayChart, err => showError(`Error loading script: ${err.message}`));\n",
       "    } else {\n",
       "      maybeLoadScript(\"vega\", \"5\")\n",
       "        .then(() => maybeLoadScript(\"vega-lite\", \"4.17.0\"))\n",
       "        .then(() => maybeLoadScript(\"vega-embed\", \"6\"))\n",
       "        .catch(showError)\n",
       "        .then(() => displayChart(vegaEmbed));\n",
       "    }\n",
       "  })({\"config\": {\"view\": {\"continuousWidth\": 400, \"continuousHeight\": 300}}, \"layer\": [{\"mark\": \"bar\", \"encoding\": {\"color\": {\"condition\": {\"value\": \"#B8DE29FF\", \"test\": \"(datum['Facility Category'] === 'Restaurant/Diner')\"}, \"value\": \"#440154FF\"}, \"x\": {\"aggregate\": \"count\", \"field\": \"Facility Category\", \"type\": \"quantitative\"}, \"y\": {\"field\": \"Facility Category\", \"sort\": \"-x\", \"type\": \"nominal\"}}}, {\"mark\": {\"type\": \"text\", \"align\": \"left\", \"baseline\": \"middle\", \"dx\": 3}, \"encoding\": {\"color\": {\"condition\": {\"value\": \"#B8DE29FF\", \"test\": \"(datum['Facility Category'] === 'Restaurant/Diner')\"}, \"value\": \"#440154FF\"}, \"text\": {\"aggregate\": \"count\", \"field\": \"Facility Category\", \"type\": \"quantitative\"}, \"x\": {\"aggregate\": \"count\", \"field\": \"Facility Category\", \"type\": \"quantitative\"}, \"y\": {\"field\": \"Facility Category\", \"sort\": \"-x\", \"type\": \"nominal\"}}}], \"data\": {\"url\": \"https://raw.githubusercontent.com/Vishwa79/vishwa79.github.io/main/python_notebooks/clean_food_inspection.csv\"}, \"width\": 600, \"$schema\": \"https://vega.github.io/schema/vega-lite/v4.17.0.json\"}, {\"mode\": \"vega-lite\"});\n",
       "</script>"
      ],
      "text/plain": [
       "alt.LayerChart(...)"
      ]
     },
     "execution_count": 54,
     "metadata": {},
     "output_type": "execute_result"
    }
   ],
   "source": [
    "bars=alt.Chart(source).mark_bar().encode(\n",
    "    x='count(Facility Category):Q',\n",
    "    y=alt.Y('Facility Category:N', sort='-x'),\n",
    "    color=alt.condition(\n",
    "        alt.datum[\"Facility Category\"] == \"Restaurant/Diner\",  # If the year is 1810 this test returns True,\n",
    "        alt.value('#B8DE29FF'),     # which sets the bar orange.\n",
    "        alt.value('#440154FF')   # And if it's not true it sets the bar steelblue.\n",
    "    )\n",
    ")\n",
    "text = bars.mark_text(\n",
    "    align='left',\n",
    "    baseline='middle',\n",
    "    dx=3 \n",
    ").encode(\n",
    "    text='count(Facility Category):Q'\n",
    ")\n",
    "\n",
    "(bars + text).properties(width=600)"
   ]
  },
  {
   "cell_type": "markdown",
   "id": "262facd0",
   "metadata": {},
   "source": [
    "The above viz shows the distribution of records of facility category. One of the strange things observed was about the Banquet Halls present in chicago. How come there were only 4 inspections of the same. Similarly, restaurant and diner had the most inspections which makes sense."
   ]
  },
  {
   "cell_type": "code",
   "execution_count": 58,
   "id": "6e1fa9b3",
   "metadata": {},
   "outputs": [],
   "source": [
    "#myJekyllSaveDir = 'C:/Users/vishw/vishwa79.github.io/assets/json/'\n",
    "\n",
    "#(bars + text).save(myJekyllSaveDir+'testing.json')\n"
   ]
  },
  {
   "cell_type": "code",
   "execution_count": 45,
   "id": "1b2b8b6e",
   "metadata": {},
   "outputs": [
    {
     "data": {
      "text/html": [
       "\n",
       "<div id=\"altair-viz-00823c630a1c4e4cbe9d748d3073c4d2\"></div>\n",
       "<script type=\"text/javascript\">\n",
       "  var VEGA_DEBUG = (typeof VEGA_DEBUG == \"undefined\") ? {} : VEGA_DEBUG;\n",
       "  (function(spec, embedOpt){\n",
       "    let outputDiv = document.currentScript.previousElementSibling;\n",
       "    if (outputDiv.id !== \"altair-viz-00823c630a1c4e4cbe9d748d3073c4d2\") {\n",
       "      outputDiv = document.getElementById(\"altair-viz-00823c630a1c4e4cbe9d748d3073c4d2\");\n",
       "    }\n",
       "    const paths = {\n",
       "      \"vega\": \"https://cdn.jsdelivr.net/npm//vega@5?noext\",\n",
       "      \"vega-lib\": \"https://cdn.jsdelivr.net/npm//vega-lib?noext\",\n",
       "      \"vega-lite\": \"https://cdn.jsdelivr.net/npm//vega-lite@4.17.0?noext\",\n",
       "      \"vega-embed\": \"https://cdn.jsdelivr.net/npm//vega-embed@6?noext\",\n",
       "    };\n",
       "\n",
       "    function maybeLoadScript(lib, version) {\n",
       "      var key = `${lib.replace(\"-\", \"\")}_version`;\n",
       "      return (VEGA_DEBUG[key] == version) ?\n",
       "        Promise.resolve(paths[lib]) :\n",
       "        new Promise(function(resolve, reject) {\n",
       "          var s = document.createElement('script');\n",
       "          document.getElementsByTagName(\"head\")[0].appendChild(s);\n",
       "          s.async = true;\n",
       "          s.onload = () => {\n",
       "            VEGA_DEBUG[key] = version;\n",
       "            return resolve(paths[lib]);\n",
       "          };\n",
       "          s.onerror = () => reject(`Error loading script: ${paths[lib]}`);\n",
       "          s.src = paths[lib];\n",
       "        });\n",
       "    }\n",
       "\n",
       "    function showError(err) {\n",
       "      outputDiv.innerHTML = `<div class=\"error\" style=\"color:red;\">${err}</div>`;\n",
       "      throw err;\n",
       "    }\n",
       "\n",
       "    function displayChart(vegaEmbed) {\n",
       "      vegaEmbed(outputDiv, spec, embedOpt)\n",
       "        .catch(err => showError(`Javascript Error: ${err.message}<br>This usually means there's a typo in your chart specification. See the javascript console for the full traceback.`));\n",
       "    }\n",
       "\n",
       "    if(typeof define === \"function\" && define.amd) {\n",
       "      requirejs.config({paths});\n",
       "      require([\"vega-embed\"], displayChart, err => showError(`Error loading script: ${err.message}`));\n",
       "    } else {\n",
       "      maybeLoadScript(\"vega\", \"5\")\n",
       "        .then(() => maybeLoadScript(\"vega-lite\", \"4.17.0\"))\n",
       "        .then(() => maybeLoadScript(\"vega-embed\", \"6\"))\n",
       "        .catch(showError)\n",
       "        .then(() => displayChart(vegaEmbed));\n",
       "    }\n",
       "  })({\"config\": {\"view\": {\"continuousWidth\": 400, \"continuousHeight\": 300}}, \"layer\": [{\"mark\": \"bar\", \"encoding\": {\"color\": {\"condition\": {\"value\": \"#B8DE29FF\", \"test\": \"(datum.Results === 'Pass')\"}, \"value\": \"#440154FF\"}, \"x\": {\"aggregate\": \"count\", \"field\": \"Results\", \"type\": \"quantitative\"}, \"y\": {\"field\": \"Results\", \"sort\": \"-x\", \"type\": \"nominal\"}}}, {\"mark\": {\"type\": \"text\", \"align\": \"left\", \"baseline\": \"middle\", \"dx\": 3}, \"encoding\": {\"color\": {\"condition\": {\"value\": \"#B8DE29FF\", \"test\": \"(datum.Results === 'Pass')\"}, \"value\": \"#440154FF\"}, \"text\": {\"aggregate\": \"count\", \"field\": \"Results\", \"type\": \"quantitative\"}, \"x\": {\"aggregate\": \"count\", \"field\": \"Results\", \"type\": \"quantitative\"}, \"y\": {\"field\": \"Results\", \"sort\": \"-x\", \"type\": \"nominal\"}}}], \"data\": {\"url\": \"https://raw.githubusercontent.com/Vishwa79/vishwa79.github.io/main/python_notebooks/clean_food_inspection.csv\"}, \"width\": 600, \"$schema\": \"https://vega.github.io/schema/vega-lite/v4.17.0.json\"}, {\"mode\": \"vega-lite\"});\n",
       "</script>"
      ],
      "text/plain": [
       "alt.LayerChart(...)"
      ]
     },
     "execution_count": 45,
     "metadata": {},
     "output_type": "execute_result"
    }
   ],
   "source": [
    "bars=alt.Chart(source).mark_bar().encode(\n",
    "    x='count(Results):Q',\n",
    "    y=alt.Y('Results:N', sort='-x'),\n",
    "    color=alt.condition(\n",
    "        alt.datum.Results == \"Pass\",  # If the year is 1810 this test returns True,\n",
    "        alt.value('#B8DE29FF'),     # which sets the bar orange.\n",
    "        alt.value('#440154FF')   # And if it's not true it sets the bar steelblue.\n",
    "    )\n",
    "\n",
    ")\n",
    "text = bars.mark_text(\n",
    "    align='left',\n",
    "    baseline='middle',\n",
    "    dx=3 \n",
    ").encode(\n",
    "    text='count(Results):Q'\n",
    ")\n",
    "\n",
    "(bars + text).properties(width=600)"
   ]
  },
  {
   "cell_type": "markdown",
   "id": "ff98f09b",
   "metadata": {},
   "source": [
    "Now coming to results , we observe that most facilities got pass(more than 50%).The second one is “Fail”; following control, almost 6 thousand people don’t receive a favorable impression. Popularity also works with restrictions (more than 10% of spots produced that result). Rarely do circumstances arise where doors are closed, a location isn’t suitable for control, or even doesn’t exist."
   ]
  },
  {
   "cell_type": "code",
   "execution_count": 44,
   "id": "372b1ce4",
   "metadata": {},
   "outputs": [],
   "source": [
    "#(bars + text).save(myJekyllSaveDir+'risk_bar.json')"
   ]
  },
  {
   "cell_type": "code",
   "execution_count": 43,
   "id": "a0950958",
   "metadata": {},
   "outputs": [
    {
     "data": {
      "text/html": [
       "\n",
       "<div id=\"altair-viz-5a9c6b6f3ea0453f926f14f9ce7390a8\"></div>\n",
       "<script type=\"text/javascript\">\n",
       "  var VEGA_DEBUG = (typeof VEGA_DEBUG == \"undefined\") ? {} : VEGA_DEBUG;\n",
       "  (function(spec, embedOpt){\n",
       "    let outputDiv = document.currentScript.previousElementSibling;\n",
       "    if (outputDiv.id !== \"altair-viz-5a9c6b6f3ea0453f926f14f9ce7390a8\") {\n",
       "      outputDiv = document.getElementById(\"altair-viz-5a9c6b6f3ea0453f926f14f9ce7390a8\");\n",
       "    }\n",
       "    const paths = {\n",
       "      \"vega\": \"https://cdn.jsdelivr.net/npm//vega@5?noext\",\n",
       "      \"vega-lib\": \"https://cdn.jsdelivr.net/npm//vega-lib?noext\",\n",
       "      \"vega-lite\": \"https://cdn.jsdelivr.net/npm//vega-lite@4.17.0?noext\",\n",
       "      \"vega-embed\": \"https://cdn.jsdelivr.net/npm//vega-embed@6?noext\",\n",
       "    };\n",
       "\n",
       "    function maybeLoadScript(lib, version) {\n",
       "      var key = `${lib.replace(\"-\", \"\")}_version`;\n",
       "      return (VEGA_DEBUG[key] == version) ?\n",
       "        Promise.resolve(paths[lib]) :\n",
       "        new Promise(function(resolve, reject) {\n",
       "          var s = document.createElement('script');\n",
       "          document.getElementsByTagName(\"head\")[0].appendChild(s);\n",
       "          s.async = true;\n",
       "          s.onload = () => {\n",
       "            VEGA_DEBUG[key] = version;\n",
       "            return resolve(paths[lib]);\n",
       "          };\n",
       "          s.onerror = () => reject(`Error loading script: ${paths[lib]}`);\n",
       "          s.src = paths[lib];\n",
       "        });\n",
       "    }\n",
       "\n",
       "    function showError(err) {\n",
       "      outputDiv.innerHTML = `<div class=\"error\" style=\"color:red;\">${err}</div>`;\n",
       "      throw err;\n",
       "    }\n",
       "\n",
       "    function displayChart(vegaEmbed) {\n",
       "      vegaEmbed(outputDiv, spec, embedOpt)\n",
       "        .catch(err => showError(`Javascript Error: ${err.message}<br>This usually means there's a typo in your chart specification. See the javascript console for the full traceback.`));\n",
       "    }\n",
       "\n",
       "    if(typeof define === \"function\" && define.amd) {\n",
       "      requirejs.config({paths});\n",
       "      require([\"vega-embed\"], displayChart, err => showError(`Error loading script: ${err.message}`));\n",
       "    } else {\n",
       "      maybeLoadScript(\"vega\", \"5\")\n",
       "        .then(() => maybeLoadScript(\"vega-lite\", \"4.17.0\"))\n",
       "        .then(() => maybeLoadScript(\"vega-embed\", \"6\"))\n",
       "        .catch(showError)\n",
       "        .then(() => displayChart(vegaEmbed));\n",
       "    }\n",
       "  })({\"config\": {\"view\": {\"continuousWidth\": 400, \"continuousHeight\": 300}}, \"layer\": [{\"mark\": \"bar\", \"encoding\": {\"color\": {\"condition\": {\"value\": \"#B8DE29FF\", \"test\": \"(datum.Risk === 'Risk 1 (High)')\"}, \"value\": \"#440154FF\"}, \"x\": {\"aggregate\": \"count\", \"field\": \"Risk\", \"type\": \"quantitative\"}, \"y\": {\"field\": \"Risk\", \"sort\": \"-x\", \"type\": \"nominal\"}}}, {\"mark\": {\"type\": \"text\", \"align\": \"left\", \"baseline\": \"middle\", \"dx\": 3}, \"encoding\": {\"color\": {\"condition\": {\"value\": \"#B8DE29FF\", \"test\": \"(datum.Risk === 'Risk 1 (High)')\"}, \"value\": \"#440154FF\"}, \"text\": {\"aggregate\": \"count\", \"field\": \"Risk\", \"type\": \"quantitative\"}, \"x\": {\"aggregate\": \"count\", \"field\": \"Risk\", \"type\": \"quantitative\"}, \"y\": {\"field\": \"Risk\", \"sort\": \"-x\", \"type\": \"nominal\"}}}], \"data\": {\"url\": \"https://raw.githubusercontent.com/Vishwa79/vishwa79.github.io/main/python_notebooks/clean_food_inspection.csv\"}, \"width\": 600, \"$schema\": \"https://vega.github.io/schema/vega-lite/v4.17.0.json\"}, {\"mode\": \"vega-lite\"});\n",
       "</script>"
      ],
      "text/plain": [
       "alt.LayerChart(...)"
      ]
     },
     "execution_count": 43,
     "metadata": {},
     "output_type": "execute_result"
    }
   ],
   "source": [
    "bars=alt.Chart(source).mark_bar().encode(\n",
    "    x='count(Risk):Q',\n",
    "    y=alt.Y('Risk:N', sort='-x'),\n",
    "    color=alt.condition(\n",
    "        alt.datum.Risk == \"Risk 1 (High)\",  # If the year is 1810 this test returns True,\n",
    "        alt.value('#B8DE29FF'),     # which sets the bar orange.\n",
    "        alt.value('#440154FF')   # And if it's not true it sets the bar steelblue.\n",
    "    )\n",
    ")\n",
    "text = bars.mark_text(\n",
    "    align='left',\n",
    "    baseline='middle',\n",
    "    dx=3 \n",
    ").encode(\n",
    "    text='count(Risk):Q'\n",
    ")\n",
    "\n",
    "(bars + text).properties(width=600)"
   ]
  },
  {
   "cell_type": "markdown",
   "id": "1c4a1e0c",
   "metadata": {},
   "source": [
    "Let’s now examine the risk type. Risk can be classified as high, medium, or low. Over 70% of the audited locations had high risk. The second one is medium and has a participation rate of about 20%. The third one is low risk (every 11 spot has such a risk). There are also a few places which come under all risk types."
   ]
  },
  {
   "cell_type": "code",
   "execution_count": 46,
   "id": "47fd5321",
   "metadata": {},
   "outputs": [],
   "source": [
    "#(bars + text).save(myJekyllSaveDir+'result_bar.json')"
   ]
  },
  {
   "cell_type": "code",
   "execution_count": 40,
   "id": "7b7fa8b3",
   "metadata": {},
   "outputs": [
    {
     "data": {
      "text/html": [
       "\n",
       "<div id=\"altair-viz-f4a81b64c38944b6b8dec029a5d5ce4c\"></div>\n",
       "<script type=\"text/javascript\">\n",
       "  var VEGA_DEBUG = (typeof VEGA_DEBUG == \"undefined\") ? {} : VEGA_DEBUG;\n",
       "  (function(spec, embedOpt){\n",
       "    let outputDiv = document.currentScript.previousElementSibling;\n",
       "    if (outputDiv.id !== \"altair-viz-f4a81b64c38944b6b8dec029a5d5ce4c\") {\n",
       "      outputDiv = document.getElementById(\"altair-viz-f4a81b64c38944b6b8dec029a5d5ce4c\");\n",
       "    }\n",
       "    const paths = {\n",
       "      \"vega\": \"https://cdn.jsdelivr.net/npm//vega@5?noext\",\n",
       "      \"vega-lib\": \"https://cdn.jsdelivr.net/npm//vega-lib?noext\",\n",
       "      \"vega-lite\": \"https://cdn.jsdelivr.net/npm//vega-lite@4.17.0?noext\",\n",
       "      \"vega-embed\": \"https://cdn.jsdelivr.net/npm//vega-embed@6?noext\",\n",
       "    };\n",
       "\n",
       "    function maybeLoadScript(lib, version) {\n",
       "      var key = `${lib.replace(\"-\", \"\")}_version`;\n",
       "      return (VEGA_DEBUG[key] == version) ?\n",
       "        Promise.resolve(paths[lib]) :\n",
       "        new Promise(function(resolve, reject) {\n",
       "          var s = document.createElement('script');\n",
       "          document.getElementsByTagName(\"head\")[0].appendChild(s);\n",
       "          s.async = true;\n",
       "          s.onload = () => {\n",
       "            VEGA_DEBUG[key] = version;\n",
       "            return resolve(paths[lib]);\n",
       "          };\n",
       "          s.onerror = () => reject(`Error loading script: ${paths[lib]}`);\n",
       "          s.src = paths[lib];\n",
       "        });\n",
       "    }\n",
       "\n",
       "    function showError(err) {\n",
       "      outputDiv.innerHTML = `<div class=\"error\" style=\"color:red;\">${err}</div>`;\n",
       "      throw err;\n",
       "    }\n",
       "\n",
       "    function displayChart(vegaEmbed) {\n",
       "      vegaEmbed(outputDiv, spec, embedOpt)\n",
       "        .catch(err => showError(`Javascript Error: ${err.message}<br>This usually means there's a typo in your chart specification. See the javascript console for the full traceback.`));\n",
       "    }\n",
       "\n",
       "    if(typeof define === \"function\" && define.amd) {\n",
       "      requirejs.config({paths});\n",
       "      require([\"vega-embed\"], displayChart, err => showError(`Error loading script: ${err.message}`));\n",
       "    } else {\n",
       "      maybeLoadScript(\"vega\", \"5\")\n",
       "        .then(() => maybeLoadScript(\"vega-lite\", \"4.17.0\"))\n",
       "        .then(() => maybeLoadScript(\"vega-embed\", \"6\"))\n",
       "        .catch(showError)\n",
       "        .then(() => displayChart(vegaEmbed));\n",
       "    }\n",
       "  })({\"config\": {\"view\": {\"continuousWidth\": 400, \"continuousHeight\": 300}}, \"layer\": [{\"mark\": \"rect\", \"encoding\": {\"color\": {\"field\": \"Count_of_Records\", \"legend\": {\"direction\": \"vertical\"}, \"scale\": {\"scheme\": \"viridis\"}, \"type\": \"quantitative\"}, \"x\": {\"field\": \"Risk\", \"scale\": {\"paddingInner\": 0}, \"type\": \"ordinal\"}, \"y\": {\"field\": \"Results\", \"scale\": {\"paddingInner\": 0}, \"type\": \"ordinal\"}}, \"height\": 400, \"transform\": [{\"aggregate\": [{\"op\": \"count\", \"as\": \"Count_of_Records\"}], \"groupby\": [\"Risk\", \"Results\"]}], \"width\": 600}, {\"mark\": {\"type\": \"text\", \"baseline\": \"middle\"}, \"encoding\": {\"color\": {\"condition\": {\"value\": \"black\", \"test\": \"(datum.num_facility_category > 500)\"}, \"value\": \"white\"}, \"text\": {\"field\": \"Count_of_Records\", \"type\": \"quantitative\"}, \"x\": {\"field\": \"Risk\", \"scale\": {\"paddingInner\": 0}, \"type\": \"ordinal\"}, \"y\": {\"field\": \"Results\", \"scale\": {\"paddingInner\": 0}, \"type\": \"ordinal\"}}, \"transform\": [{\"aggregate\": [{\"op\": \"count\", \"as\": \"Count_of_Records\"}], \"groupby\": [\"Risk\", \"Results\"]}]}], \"data\": {\"url\": \"https://raw.githubusercontent.com/Vishwa79/vishwa79.github.io/main/python_notebooks/clean_food_inspection.csv\"}, \"$schema\": \"https://vega.github.io/schema/vega-lite/v4.17.0.json\"}, {\"mode\": \"vega-lite\"});\n",
       "</script>"
      ],
      "text/plain": [
       "alt.LayerChart(...)"
      ]
     },
     "execution_count": 40,
     "metadata": {},
     "output_type": "execute_result"
    }
   ],
   "source": [
    "\n",
    "base = alt.Chart(source).transform_aggregate(\n",
    "    Count_of_Records='count()',\n",
    "    groupby=['Risk', 'Results']\n",
    ").encode(\n",
    "    alt.X('Risk:O', scale=alt.Scale(paddingInner=0)),\n",
    "    alt.Y('Results:O', scale=alt.Scale(paddingInner=0)),\n",
    ")\n",
    "\n",
    "# Configure heatmap\n",
    "heatmap = base.mark_rect().encode(\n",
    "    color=alt.Color('Count_of_Records:Q',\n",
    "        scale=alt.Scale(scheme='viridis'),\n",
    "        legend=alt.Legend(direction='vertical')\n",
    "    )\n",
    ").properties(\n",
    "    width=600,\n",
    "    height=400\n",
    ")\n",
    "\n",
    "\n",
    "text = base.mark_text(baseline='middle').encode(\n",
    "    text='Count_of_Records:Q',\n",
    "    color=alt.condition(\n",
    "        alt.datum.num_facility_category > 500,\n",
    "        alt.value('black'),\n",
    "        alt.value('white')\n",
    "    )\n",
    ")\n",
    "\n",
    "\n",
    "heatmap + text"
   ]
  },
  {
   "cell_type": "markdown",
   "id": "030a2201",
   "metadata": {},
   "source": [
    "The above heatmap shows the number of records which have the combination of Risk and Result. For example there are 11010 records which has result as Pass and are Risk 1 (High)."
   ]
  },
  {
   "cell_type": "code",
   "execution_count": 41,
   "id": "543a7ae6",
   "metadata": {},
   "outputs": [],
   "source": [
    "#(heatmap + text).save(myJekyllSaveDir+'heatmap1.json')"
   ]
  },
  {
   "cell_type": "code",
   "execution_count": 49,
   "id": "7e8a4bd5",
   "metadata": {},
   "outputs": [
    {
     "data": {
      "text/html": [
       "\n",
       "<div id=\"altair-viz-a3a5e89735464c24b40f5ec46d884677\"></div>\n",
       "<script type=\"text/javascript\">\n",
       "  var VEGA_DEBUG = (typeof VEGA_DEBUG == \"undefined\") ? {} : VEGA_DEBUG;\n",
       "  (function(spec, embedOpt){\n",
       "    let outputDiv = document.currentScript.previousElementSibling;\n",
       "    if (outputDiv.id !== \"altair-viz-a3a5e89735464c24b40f5ec46d884677\") {\n",
       "      outputDiv = document.getElementById(\"altair-viz-a3a5e89735464c24b40f5ec46d884677\");\n",
       "    }\n",
       "    const paths = {\n",
       "      \"vega\": \"https://cdn.jsdelivr.net/npm//vega@5?noext\",\n",
       "      \"vega-lib\": \"https://cdn.jsdelivr.net/npm//vega-lib?noext\",\n",
       "      \"vega-lite\": \"https://cdn.jsdelivr.net/npm//vega-lite@4.17.0?noext\",\n",
       "      \"vega-embed\": \"https://cdn.jsdelivr.net/npm//vega-embed@6?noext\",\n",
       "    };\n",
       "\n",
       "    function maybeLoadScript(lib, version) {\n",
       "      var key = `${lib.replace(\"-\", \"\")}_version`;\n",
       "      return (VEGA_DEBUG[key] == version) ?\n",
       "        Promise.resolve(paths[lib]) :\n",
       "        new Promise(function(resolve, reject) {\n",
       "          var s = document.createElement('script');\n",
       "          document.getElementsByTagName(\"head\")[0].appendChild(s);\n",
       "          s.async = true;\n",
       "          s.onload = () => {\n",
       "            VEGA_DEBUG[key] = version;\n",
       "            return resolve(paths[lib]);\n",
       "          };\n",
       "          s.onerror = () => reject(`Error loading script: ${paths[lib]}`);\n",
       "          s.src = paths[lib];\n",
       "        });\n",
       "    }\n",
       "\n",
       "    function showError(err) {\n",
       "      outputDiv.innerHTML = `<div class=\"error\" style=\"color:red;\">${err}</div>`;\n",
       "      throw err;\n",
       "    }\n",
       "\n",
       "    function displayChart(vegaEmbed) {\n",
       "      vegaEmbed(outputDiv, spec, embedOpt)\n",
       "        .catch(err => showError(`Javascript Error: ${err.message}<br>This usually means there's a typo in your chart specification. See the javascript console for the full traceback.`));\n",
       "    }\n",
       "\n",
       "    if(typeof define === \"function\" && define.amd) {\n",
       "      requirejs.config({paths});\n",
       "      require([\"vega-embed\"], displayChart, err => showError(`Error loading script: ${err.message}`));\n",
       "    } else {\n",
       "      maybeLoadScript(\"vega\", \"5\")\n",
       "        .then(() => maybeLoadScript(\"vega-lite\", \"4.17.0\"))\n",
       "        .then(() => maybeLoadScript(\"vega-embed\", \"6\"))\n",
       "        .catch(showError)\n",
       "        .then(() => displayChart(vegaEmbed));\n",
       "    }\n",
       "  })({\"config\": {\"view\": {\"continuousWidth\": 400, \"continuousHeight\": 300}}, \"layer\": [{\"mark\": \"circle\", \"encoding\": {\"color\": {\"field\": \"Results\", \"scale\": {\"scheme\": \"viridis\"}, \"type\": \"nominal\"}, \"opacity\": {\"value\": 0}, \"x\": {\"field\": \"Inspection Month\", \"type\": \"nominal\"}, \"y\": {\"aggregate\": \"count\", \"field\": \"Inspection Month\", \"type\": \"quantitative\"}}, \"selection\": {\"selector006\": {\"type\": \"single\", \"on\": \"mouseover\", \"fields\": [\"Results\"], \"nearest\": true}}, \"width\": 600}, {\"mark\": \"line\", \"encoding\": {\"color\": {\"field\": \"Results\", \"scale\": {\"scheme\": \"viridis\"}, \"type\": \"nominal\"}, \"size\": {\"condition\": {\"value\": 1, \"selection\": {\"not\": \"selector006\"}}, \"value\": 3}, \"x\": {\"field\": \"Inspection Month\", \"type\": \"nominal\"}, \"y\": {\"aggregate\": \"count\", \"field\": \"Inspection Month\", \"type\": \"quantitative\"}}}], \"data\": {\"url\": \"https://raw.githubusercontent.com/Vishwa79/vishwa79.github.io/main/python_notebooks/clean_food_inspection.csv\"}, \"$schema\": \"https://vega.github.io/schema/vega-lite/v4.17.0.json\"}, {\"mode\": \"vega-lite\"});\n",
       "</script>"
      ],
      "text/plain": [
       "alt.LayerChart(...)"
      ]
     },
     "execution_count": 49,
     "metadata": {},
     "output_type": "execute_result"
    }
   ],
   "source": [
    "highlight = alt.selection(type='single', on='mouseover',\n",
    "                          fields=['Results'], nearest=True)\n",
    "\n",
    "base = alt.Chart(source).encode(\n",
    "    x='Inspection Month:N',\n",
    "    y='count(Inspection Month):Q',\n",
    "    color= alt.Color('Results:N',scale=alt.Scale(scheme='viridis'))\n",
    ")\n",
    "\n",
    "points = base.mark_circle().encode(\n",
    "    opacity=alt.value(0)\n",
    ").add_selection(\n",
    "    highlight\n",
    ").properties(\n",
    "    width=600\n",
    ")\n",
    "\n",
    "lines = base.mark_line().encode(\n",
    "    size=alt.condition(~highlight, alt.value(1), alt.value(3))\n",
    ")\n",
    "\n",
    "points + lines"
   ]
  },
  {
   "cell_type": "code",
   "execution_count": 57,
   "id": "aba01592",
   "metadata": {},
   "outputs": [],
   "source": [
    "#(points + lines).save(myJekyllSaveDir+'monthly_results.json')"
   ]
  },
  {
   "cell_type": "markdown",
   "id": "18fda871",
   "metadata": {},
   "source": [
    "The above viz shows number of inspections happening every month for particular result type."
   ]
  },
  {
   "cell_type": "markdown",
   "id": "1074580b",
   "metadata": {},
   "source": [
    "## Dashboard"
   ]
  },
  {
   "cell_type": "code",
   "execution_count": 75,
   "id": "2c8c848c",
   "metadata": {
    "scrolled": false
   },
   "outputs": [
    {
     "data": {
      "text/html": [
       "\n",
       "<div id=\"altair-viz-b9ac4c31d38547a89d58c76545450a12\"></div>\n",
       "<script type=\"text/javascript\">\n",
       "  var VEGA_DEBUG = (typeof VEGA_DEBUG == \"undefined\") ? {} : VEGA_DEBUG;\n",
       "  (function(spec, embedOpt){\n",
       "    let outputDiv = document.currentScript.previousElementSibling;\n",
       "    if (outputDiv.id !== \"altair-viz-b9ac4c31d38547a89d58c76545450a12\") {\n",
       "      outputDiv = document.getElementById(\"altair-viz-b9ac4c31d38547a89d58c76545450a12\");\n",
       "    }\n",
       "    const paths = {\n",
       "      \"vega\": \"https://cdn.jsdelivr.net/npm//vega@5?noext\",\n",
       "      \"vega-lib\": \"https://cdn.jsdelivr.net/npm//vega-lib?noext\",\n",
       "      \"vega-lite\": \"https://cdn.jsdelivr.net/npm//vega-lite@4.17.0?noext\",\n",
       "      \"vega-embed\": \"https://cdn.jsdelivr.net/npm//vega-embed@6?noext\",\n",
       "    };\n",
       "\n",
       "    function maybeLoadScript(lib, version) {\n",
       "      var key = `${lib.replace(\"-\", \"\")}_version`;\n",
       "      return (VEGA_DEBUG[key] == version) ?\n",
       "        Promise.resolve(paths[lib]) :\n",
       "        new Promise(function(resolve, reject) {\n",
       "          var s = document.createElement('script');\n",
       "          document.getElementsByTagName(\"head\")[0].appendChild(s);\n",
       "          s.async = true;\n",
       "          s.onload = () => {\n",
       "            VEGA_DEBUG[key] = version;\n",
       "            return resolve(paths[lib]);\n",
       "          };\n",
       "          s.onerror = () => reject(`Error loading script: ${paths[lib]}`);\n",
       "          s.src = paths[lib];\n",
       "        });\n",
       "    }\n",
       "\n",
       "    function showError(err) {\n",
       "      outputDiv.innerHTML = `<div class=\"error\" style=\"color:red;\">${err}</div>`;\n",
       "      throw err;\n",
       "    }\n",
       "\n",
       "    function displayChart(vegaEmbed) {\n",
       "      vegaEmbed(outputDiv, spec, embedOpt)\n",
       "        .catch(err => showError(`Javascript Error: ${err.message}<br>This usually means there's a typo in your chart specification. See the javascript console for the full traceback.`));\n",
       "    }\n",
       "\n",
       "    if(typeof define === \"function\" && define.amd) {\n",
       "      requirejs.config({paths});\n",
       "      require([\"vega-embed\"], displayChart, err => showError(`Error loading script: ${err.message}`));\n",
       "    } else {\n",
       "      maybeLoadScript(\"vega\", \"5\")\n",
       "        .then(() => maybeLoadScript(\"vega-lite\", \"4.17.0\"))\n",
       "        .then(() => maybeLoadScript(\"vega-embed\", \"6\"))\n",
       "        .catch(showError)\n",
       "        .then(() => displayChart(vegaEmbed));\n",
       "    }\n",
       "  })({\"config\": {\"view\": {\"continuousWidth\": 400, \"continuousHeight\": 300}}, \"hconcat\": [{\"mark\": \"rect\", \"encoding\": {\"color\": {\"aggregate\": \"count\", \"field\": \"Facility Category\", \"type\": \"quantitative\"}, \"x\": {\"field\": \"Results\", \"type\": \"ordinal\"}, \"y\": {\"field\": \"Risk\", \"type\": \"ordinal\"}}, \"height\": 350, \"selection\": {\"selector028\": {\"type\": \"single\", \"encodings\": [\"x\", \"y\"]}}, \"width\": 350}, {\"mark\": {\"type\": \"bar\", \"thickness\": 100}, \"encoding\": {\"color\": {\"field\": \"Facility Category\", \"scale\": {\"scheme\": \"viridis\"}, \"type\": \"nominal\"}, \"x\": {\"field\": \"Results\", \"type\": \"nominal\"}, \"y\": {\"aggregate\": \"count\", \"field\": \"Results\", \"type\": \"quantitative\"}}, \"height\": 350, \"selection\": {\"selector023\": {\"type\": \"single\", \"empty\": \"all\", \"fields\": [\"Facility Category\"]}}, \"transform\": [{\"filter\": {\"selection\": \"selector028\"}}], \"width\": 350}], \"data\": {\"url\": \"https://raw.githubusercontent.com/Vishwa79/vishwa79.github.io/main/python_notebooks/clean_food_inspection.csv\"}, \"$schema\": \"https://vega.github.io/schema/vega-lite/v4.17.0.json\"}, {\"mode\": \"vega-lite\"});\n",
       "</script>"
      ],
      "text/plain": [
       "alt.HConcatChart(...)"
      ]
     },
     "execution_count": 75,
     "metadata": {},
     "output_type": "execute_result"
    }
   ],
   "source": [
    "selector = alt.selection_single(encodings=['x','y'])\n",
    "heat_alt=alt.Chart(source).mark_rect().encode(\n",
    "    x=alt.X('Results:O'),\n",
    "    y=alt.Y('Risk:O'),\n",
    "    color='count(Facility Category):Q'\n",
    ").add_selection(\n",
    "    selector\n",
    ").properties(\n",
    "    width=350,    height=350)\n",
    "\n",
    "hists = base.mark_bar( thickness=100).encode(\n",
    "    x=alt.X('Results:N'),\n",
    "    y=alt.Y('count(Results):Q'),\n",
    "    color=alt.Color('Facility Category:N',\n",
    "                    scale=alt.Scale(scheme='viridis'))\n",
    ").transform_filter(\n",
    "    selector\n",
    ")\n",
    "\n",
    "heat_alt|hists"
   ]
  },
  {
   "cell_type": "code",
   "execution_count": 77,
   "id": "d36ee2f8",
   "metadata": {},
   "outputs": [],
   "source": [
    "#(heat_alt|hists).save(myJekyllSaveDir+'dashboards_1.json')"
   ]
  },
  {
   "cell_type": "markdown",
   "id": "b4ae9fc0",
   "metadata": {},
   "source": [
    "### Select a tile in the 1st graph to see the interactivity"
   ]
  },
  {
   "cell_type": "markdown",
   "id": "0da5830d",
   "metadata": {},
   "source": [
    "The dashboard represents 2 graph, first one is the heat map which is similar to one represented before and it provides information about relationship between results and risk. The color of the tile helps in determining the number of records of facility category for each combination, a tile from it can be chosen to further see the stacked bar chart for distribution of various facility categories. We observe that only grocery stores which provide food have ‘All’ type of risk category and result as no entry.There are no facilities which low risk and business not located. Coming to the most relevant combination as determined above, is of Pass with high risk and the stacked bar chart shows that most of the records are restaurants.\n"
   ]
  },
  {
   "cell_type": "markdown",
   "id": "72b7b8e5",
   "metadata": {},
   "source": [
    "Resources :\n",
    "\n",
    "- https://vega.github.io/vega-lite/docs/type.html#:~:text=The%20supported%20data%20types%20are,%22%20%2C%20and%20%22geojson%22%20.\n",
    "- https://altair-viz.github.io/\n"
   ]
  }
 ],
 "metadata": {
  "kernelspec": {
   "display_name": "Python 3 (ipykernel)",
   "language": "python",
   "name": "python3"
  },
  "language_info": {
   "codemirror_mode": {
    "name": "ipython",
    "version": 3
   },
   "file_extension": ".py",
   "mimetype": "text/x-python",
   "name": "python",
   "nbconvert_exporter": "python",
   "pygments_lexer": "ipython3",
   "version": "3.7.12"
  }
 },
 "nbformat": 4,
 "nbformat_minor": 5
}
